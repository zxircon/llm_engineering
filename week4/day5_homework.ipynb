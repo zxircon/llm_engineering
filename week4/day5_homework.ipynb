{
 "cells": [
  {
   "cell_type": "markdown",
   "id": "22e1567b-33fd-49e7-866e-4b635d15715a",
   "metadata": {},
   "source": [
    "# 🧪 Python Unit Test Generator with GPT, Claude, and Gemini\n",
    "\n",
    "---\n",
    "\n",
    "## 🧠 Overview\n",
    "\n",
    "This notebook demonstrates an AI-powered tool that **automatically generates unit tests** for Python functions using Large Language Models (LLMs).\n",
    "\n",
    "You can:\n",
    "- Paste your custom Python function\n",
    "- Choose from **GPT (OpenAI)**, **Claude (Anthropic)**, or **Gemini (Google)**\n",
    "- Instantly generate a `unittest`-based test suite for the given function\n",
    "\n",
    "This project is ideal for:\n",
    "- Practicing **Test-Driven Development (TDD)**\n",
    "- Teaching AI-assisted programming\n",
    "- Automating Python test coverage\n",
    "\n",
    "---\n",
    "\n",
    "## ⚙️ How It Works\n",
    "\n",
    "1. User pastes a Python function (e.g., `def calculate_pi(n): ...`)\n",
    "2. Selects an LLM model from the dropdown\n",
    "3. Clicks “Generate Unit Test”\n",
    "4. The assistant returns Python test code using the `unittest` framework\n",
    "\n",
    "Generated tests cover:\n",
    "- Expected outputs for various inputs\n",
    "- Edge cases (e.g., zero or negative arguments)\n",
    "- Exception handling\n",
    "\n",
    "---\n",
    "\n",
    "## 📦 Requirements\n",
    "\n",
    "Before running:\n",
    "- Set up a `.env` file with your API keys:\n",
    "  ```env\n",
    "  OPENAI_API_KEY=...\n",
    "  ANTHROPIC_API_KEY=...\n",
    "  GOOGLE_API_KEY=...\n"
   ]
  },
  {
   "cell_type": "code",
   "execution_count": null,
   "id": "e9f99d76-8a0c-427a-bb1e-222b3aa5e04b",
   "metadata": {},
   "outputs": [],
   "source": [
    "# 🧱 1. Import required libraries\n",
    "import os\n",
    "from dotenv import load_dotenv\n",
    "from openai import OpenAI\n",
    "from anthropic import Anthropic\n",
    "import google.generativeai as genai\n",
    "import gradio as gr"
   ]
  },
  {
   "cell_type": "code",
   "execution_count": null,
   "id": "e5df5828-88a4-4e88-a3d8-decbeb4a985f",
   "metadata": {},
   "outputs": [],
   "source": [
    "# 🔑 2. Load environment variables\n",
    "load_dotenv()\n",
    "\n",
    "openai_api_key = os.getenv(\"OPENAI_API_KEY\")\n",
    "claude_api_key = os.getenv(\"ANTHROPIC_API_KEY\")\n",
    "gemini_api_key = os.getenv(\"GOOGLE_API_KEY\")\n"
   ]
  },
  {
   "cell_type": "code",
   "execution_count": null,
   "id": "adbc3cfb-d6ea-4133-b747-e948d68364cb",
   "metadata": {},
   "outputs": [],
   "source": [
    "# 🌐 3. Initialize API clients\n",
    "openai = OpenAI(api_key=openai_api_key)\n",
    "claude = Anthropic(api_key=claude_api_key)\n",
    "genai.configure(api_key=gemini_api_key)\n"
   ]
  },
  {
   "cell_type": "code",
   "execution_count": null,
   "id": "43ab8bc7-8453-4327-b815-91a6e595951b",
   "metadata": {},
   "outputs": [],
   "source": [
    "# 🧠 4. Shared system prompt (for Python unit test generation)\n",
    "system_prompt = (\n",
    "    \"You are an assistant that writes Python unit tests. \"\n",
    "    \"Given a Python function, generate a test class using the 'unittest' framework. \"\n",
    "    \"Do not modify the original function. Assume the function is in 'main.py' and properly imported.\"\n",
    ")\n"
   ]
  },
  {
   "cell_type": "code",
   "execution_count": 4,
   "id": "09c91660-8f01-44ed-b8e2-fa99dc16cb21",
   "metadata": {},
   "outputs": [],
   "source": [
    "def chat(user_code, model_type):\n",
    "    if model_type == \"GPT\":\n",
    "        messages = [\n",
    "            {\"role\": \"system\", \"content\": system_prompt},\n",
    "            {\"role\": \"user\", \"content\": user_code}\n",
    "        ]\n",
    "        response = openai.chat.completions.create(\n",
    "            model=\"gpt-4o-mini\",\n",
    "            messages=messages\n",
    "        )\n",
    "        return response.choices[0].message.content\n",
    "\n",
    "    \n",
    "    elif model_type == \"Claude\":\n",
    "        response = claude.messages.create(\n",
    "            model=\"claude-3-haiku-20240307\",\n",
    "            system=system_prompt,\n",
    "            max_tokens=1024,  # zorunlu\n",
    "            messages=[{\"role\": \"user\", \"content\": user_code}]\n",
    "        )\n",
    "        return response.content[0].text\n",
    "    \n",
    "    elif model_type == \"Gemini\":\n",
    "        model = genai.GenerativeModel(\"gemini-1.5-flash\")\n",
    "        chat = model.start_chat(history=[])\n",
    "        prompt = f\"{system_prompt}\\n\\n{user_code}\"\n",
    "        response = chat.send_message(prompt)\n",
    "        return response.text\n"
   ]
  },
  {
   "cell_type": "code",
   "execution_count": 5,
   "id": "e0afa1ad-7b75-4428-98ed-74dc33ef5fb3",
   "metadata": {},
   "outputs": [
    {
     "name": "stdout",
     "output_type": "stream",
     "text": [
      "* Running on local URL:  http://127.0.0.1:7861\n",
      "\n",
      "To create a public link, set `share=True` in `launch()`.\n"
     ]
    },
    {
     "data": {
      "text/html": [
       "<div><iframe src=\"http://127.0.0.1:7861/\" width=\"100%\" height=\"500\" allow=\"autoplay; camera; microphone; clipboard-read; clipboard-write;\" frameborder=\"0\" allowfullscreen></iframe></div>"
      ],
      "text/plain": [
       "<IPython.core.display.HTML object>"
      ]
     },
     "metadata": {},
     "output_type": "display_data"
    },
    {
     "data": {
      "text/plain": []
     },
     "execution_count": 5,
     "metadata": {},
     "output_type": "execute_result"
    }
   ],
   "source": [
    "with gr.Blocks() as ui:\n",
    "    gr.Markdown(\"## 🧪 Python Unit Test Generator\")\n",
    "    \n",
    "    with gr.Row():\n",
    "        code_input = gr.Textbox(\n",
    "            label=\"Enter your Python function\", \n",
    "            lines=12, \n",
    "            placeholder=\"def calculate_pi(n=100): ...\"\n",
    "        )\n",
    "        model_dropdown = gr.Dropdown(\n",
    "            choices=[\"GPT\", \"Claude\", \"Gemini\"],\n",
    "            value=\"GPT\",\n",
    "            label=\"Select model\"\n",
    "        )\n",
    "    \n",
    "    generate_btn = gr.Button(\"Generate Unit Test\")\n",
    "    code_output = gr.Code(label=\"Generated Test Code\", language=\"python\")\n",
    "\n",
    "    generate_btn.click(fn=chat, inputs=[code_input, model_dropdown], outputs=code_output)\n",
    "\n",
    "ui.launch()\n"
   ]
  },
  {
   "cell_type": "code",
   "execution_count": null,
   "id": "10eddc9e-ac4c-426d-8383-2a87655db331",
   "metadata": {},
   "outputs": [],
   "source": []
  }
 ],
 "metadata": {
  "kernelspec": {
   "display_name": "Python 3 (ipykernel)",
   "language": "python",
   "name": "python3"
  },
  "language_info": {
   "codemirror_mode": {
    "name": "ipython",
    "version": 3
   },
   "file_extension": ".py",
   "mimetype": "text/x-python",
   "name": "python",
   "nbconvert_exporter": "python",
   "pygments_lexer": "ipython3",
   "version": "3.11.12"
  }
 },
 "nbformat": 4,
 "nbformat_minor": 5
}
