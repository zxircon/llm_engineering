{
 "cells": [
  {
   "cell_type": "markdown",
   "id": "ddfa9ae6-69fe-444a-b994-8c4c5970a7ec",
   "metadata": {},
   "source": [
    "# Project - Airline AI Assistant\n",
    "\n",
    "We'll now bring together what we've learned to make an AI Customer Support assistant for an Airline"
   ]
  },
  {
   "cell_type": "markdown",
   "id": "0037a8ff-5ae0-49f5-a86a-a0ef892ee135",
   "metadata": {},
   "source": [
    "burdan sonraki kısım ucak rezervasyonu için ekledim"
   ]
  },
  {
   "cell_type": "code",
   "execution_count": null,
   "id": "98306ac8-505c-41f5-a693-6998d851b7e2",
   "metadata": {},
   "outputs": [],
   "source": [
    "# 1. Gerekli kütüphaneleri yükle\n",
    "import os\n",
    "import json\n",
    "importuçuş rezervasyon random\n",
    "import string\n",
    "from datetime import datetime\n",
    "from dotenv import load_dotenv\n",
    "from openai import OpenAI\n",
    "import gradio as gr\n"
   ]
  },
  {
   "cell_type": "code",
   "execution_count": null,
   "id": "454f8311-14d2-4e1f-907b-e49ddc749ef1",
   "metadata": {},
   "outputs": [],
   "source": [
    "# 2. Ortam değişkenlerini yükle\n",
    "load_dotenv(override=True)\n",
    "openai = OpenAI()\n",
    "MODEL = \"gpt-4o-mini\"\n"
   ]
  },
  {
   "cell_type": "code",
   "execution_count": null,
   "id": "e79ed13f-ef06-4db0-83ad-ca92024f068c",
   "metadata": {},
   "outputs": [],
   "source": [
    "# 3. Uçak bileti fiyatları sözlüğü (çift şehirli anahtarlarla)\n",
    "ticket_prices = {\n",
    "    (\"istanbul\", \"berlin\"): \"$499\",\n",
    "    (\"istanbul\", \"tokyo\"): \"$1400\",\n",
    "    (\"ankara\", \"berlin\"): \"$550\",\n",
    "    (\"izmir\", \"tokyo\"): \"$1350\",\n",
    "    (\"antalya\", \"paris\"): \"$790\",\n",
    "    (\"istanbul\", \"paris\"): \"$899\"\n",
    "}\n"
   ]
  },
  {
   "cell_type": "code",
   "execution_count": null,
   "id": "4544f1da-329f-4d47-b1c3-e71fa6c37210",
   "metadata": {},
   "outputs": [],
   "source": [
    "\n",
    "# 4. Bilet fiyatı fonksiyonu (güvenli)\n",
    "def get_ticket_price(departure_city, destination_city):\n",
    "    if not departure_city or not destination_city:\n",
    "        return \"Error: both departure and destination cities are required.\"\n",
    "    key = (departure_city.lower(), destination_city.lower())\n",
    "    price = ticket_prices.get(key)\n",
    "    return price if price else f\"Estimated price from {departure_city.title()} to {destination_city.title()} is around $1000.\""
   ]
  },
  {
   "cell_type": "code",
   "execution_count": null,
   "id": "81103d67-2795-437a-b5e8-7ec30715a335",
   "metadata": {},
   "outputs": [],
   "source": [
    "\n",
    "# 5. PNR üretici & rezervasyon fonksiyonu (tarih destekli)\n",
    "def generate_pnr():\n",
    "    return ''.join(random.choices(string.ascii_uppercase + string.digits, k=6))\n",
    "\n",
    "def make_reservation(departure_city, destination_city, travel_date):\n",
    "    pnr = generate_pnr()\n",
    "    # travel_date format 'YYYY-MM-DD'\n",
    "    try:\n",
    "        fly_date = datetime.fromisoformat(travel_date)\n",
    "        date_str = fly_date.strftime(\"%d %B %Y\")\n",
    "    except:\n",
    "        date_str = travel_date\n",
    "    return (\n",
    "        f\"Your reservation from {departure_city.title()} to {destination_city.title()} on {date_str} is confirmed.\\n\"\n",
    "        f\"Flight departs at 13:45 local time.\\n\"\n",
    "        f\"Reservation Code (PNR): {pnr}.\\n\"\n",
    "        f\"Seat selection will be available during check-in.\"\n",
    "    )"
   ]
  },
  {
   "cell_type": "code",
   "execution_count": null,
   "id": "82868ca9-ab4e-4496-ad68-ac7d01137a3d",
   "metadata": {},
   "outputs": [],
   "source": [
    "# 6. Fonksiyon sarmalayıcıları\n",
    "def get_ticket_price_fn(departure_city: str, destination_city: str) -> str:\n",
    "    return get_ticket_price(departure_city, destination_city)\n",
    "\n",
    "def make_reservation_fn(departure_city: str, destination_city: str, travel_date: str) -> str:\n",
    "    return make_reservation(departure_city, destination_city, travel_date)\n"
   ]
  },
  {
   "cell_type": "code",
   "execution_count": null,
   "id": "3420617f-7d53-410f-a609-21583f6f909a",
   "metadata": {},
   "outputs": [],
   "source": [
    "\n",
    "# 7. Fonksiyon tanımları\n",
    "functions = [\n",
    "    {\n",
    "        \"name\": \"get_ticket_price\",\n",
    "        \"description\": \"Returns the ticket price between a departure and destination city.\",\n",
    "        \"parameters\": {\n",
    "            \"type\": \"object\",\n",
    "            \"properties\": {\n",
    "                \"departure_city\": {\"type\": \"string\", \"description\": \"Departure city.\"},\n",
    "                \"destination_city\": {\"type\": \"string\", \"description\": \"Destination city.\"}\n",
    "            },\n",
    "            \"required\": [\"departure_city\", \"destination_city\"]\n",
    "        }\n",
    "    },\n",
    "    {\n",
    "        \"name\": \"make_reservation\",\n",
    "        \"description\": \"Reserves a flight from departure to destination city on a given date and returns reservation details.\",\n",
    "        \"parameters\": {\n",
    "            \"type\": \"object\",\n",
    "            \"properties\": {\n",
    "                \"departure_city\": {\"type\": \"string\", \"description\": \"Departure city.\"},\n",
    "                \"destination_city\": {\"type\": \"string\", \"description\": \"Destination city.\"},\n",
    "                \"travel_date\": {\"type\": \"string\", \"description\": \"Travel date in YYYY-MM-DD format.\"}\n",
    "            },\n",
    "            \"required\": [\"departure_city\", \"destination_city\", \"travel_date\"]\n",
    "        }\n",
    "    }\n",
    "]"
   ]
  },
  {
   "cell_type": "code",
   "execution_count": null,
   "id": "44dc01e7-d190-47c3-8065-292760136a90",
   "metadata": {},
   "outputs": [],
   "source": [
    "# 8. Sistem mesajı\n",
    "system_message = (\n",
    "    \"You are a helpful assistant for an airline called FlightAI. \"\n",
    "    \"Never call any functions unless both the departure city, destination city, and travel date are clearly provided. \"\n",
    "    \"If the user mentions only destination or departure, ask for the missing details. \"\n",
    "    \"Ask explicitly for travel date in YYYY-MM-DD format.\"\n",
    ")\n"
   ]
  },
  {
   "cell_type": "code",
   "execution_count": null,
   "id": "55c1dd7e-999d-400e-afc9-dbd7f2da85f2",
   "metadata": {},
   "outputs": [],
   "source": [
    "\n",
    "# 9. Ana sohbet fonksiyonu\n",
    "def chat(message, history):\n",
    "    msgs = [{\"role\": \"system\", \"content\": system_message}] + history + [{\"role\": \"user\", \"content\": message}]\n",
    "    # Modeli çağır ve varsa fonksiyon isteği al\n",
    "    response = openai.chat.completions.create(\n",
    "        model=MODEL,\n",
    "        messages=msgs,\n",
    "        functions=functions\n",
    "    )\n",
    "    msg = response.choices[0].message\n",
    "    # Eğer fonksiyon çağırıldıysa\n",
    "    if msg.function_call:\n",
    "        fname = msg.function_call.name\n",
    "        args = json.loads(msg.function_call.arguments)\n",
    "        # Parametre kontrolü\n",
    "        if fname == \"get_ticket_price\":\n",
    "            result = get_ticket_price_fn(**args)\n",
    "        else:\n",
    "            # Önce rezervasyon için tarih parametresini al\n",
    "            result = make_reservation_fn(**args)\n",
    "        # Fonksiyon çağrı ve yanıtını ekle\n",
    "        msgs.append({\"role\": \"assistant\", \"content\": None, \"function_call\": msg.function_call.to_dict()})\n",
    "        msgs.append({\"role\": \"function\", \"name\": fname, \"content\": json.dumps(result)})\n",
    "        # Son cevabı al\n",
    "        response = openai.chat.completions.create(model=MODEL, messages=msgs)\n",
    "        return response.choices[0].message.content\n",
    "    return msg.content\n"
   ]
  },
  {
   "cell_type": "code",
   "execution_count": null,
   "id": "d45b4c62-5472-4970-a202-d08cfb0f3640",
   "metadata": {},
   "outputs": [],
   "source": [
    "# 10. Gradio arayüzünü başlat\n",
    "gr.ChatInterface(fn=chat, type=\"messages\").launch()"
   ]
  }
 ],
 "metadata": {
  "kernelspec": {
   "display_name": "Python 3 (ipykernel)",
   "language": "python",
   "name": "python3"
  },
  "language_info": {
   "codemirror_mode": {
    "name": "ipython",
    "version": 3
   },
   "file_extension": ".py",
   "mimetype": "text/x-python",
   "name": "python",
   "nbconvert_exporter": "python",
   "pygments_lexer": "ipython3",
   "version": "3.11.12"
  }
 },
 "nbformat": 4,
 "nbformat_minor": 5
}
