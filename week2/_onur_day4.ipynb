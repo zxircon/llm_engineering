{
 "cells": [
  {
   "cell_type": "markdown",
   "id": "ddfa9ae6-69fe-444a-b994-8c4c5970a7ec",
   "metadata": {},
   "source": [
    "# Project - Airline AI Assistant\n",
    "\n",
    "We'll now bring together what we've learned to make an AI Customer Support assistant for an Airline"
   ]
  },
  {
   "cell_type": "markdown",
   "id": "0037a8ff-5ae0-49f5-a86a-a0ef892ee135",
   "metadata": {},
   "source": [
    "burdan sonraki kısım ucak rezervasyonu için ekledim"
   ]
  },
  {
   "cell_type": "code",
   "execution_count": 12,
   "id": "98306ac8-505c-41f5-a693-6998d851b7e2",
   "metadata": {},
   "outputs": [],
   "source": [
    "# 1. Gerekli kütüphaneleri yükle\n",
    "import os\n",
    "import json\n",
    "import random\n",
    "import string\n",
    "from datetime import datetime\n",
    "from dotenv import load_dotenv\n",
    "from openai import OpenAI\n",
    "import gradio as gr\n"
   ]
  },
  {
   "cell_type": "code",
   "execution_count": 3,
   "id": "454f8311-14d2-4e1f-907b-e49ddc749ef1",
   "metadata": {},
   "outputs": [],
   "source": [
    "# 2. Ortam değişkenlerini yükle\n",
    "load_dotenv(override=True)\n",
    "openai = OpenAI()\n",
    "MODEL = \"gpt-4o-mini\"\n"
   ]
  },
  {
   "cell_type": "code",
   "execution_count": 4,
   "id": "e79ed13f-ef06-4db0-83ad-ca92024f068c",
   "metadata": {},
   "outputs": [],
   "source": [
    "# 3. Uçak bileti fiyatları sözlüğü (çift şehirli anahtarlarla)\n",
    "ticket_prices = {\n",
    "    (\"istanbul\", \"berlin\"): \"$499\",\n",
    "    (\"istanbul\", \"tokyo\"): \"$1400\",\n",
    "    (\"ankara\", \"berlin\"): \"$550\",\n",
    "    (\"izmir\", \"tokyo\"): \"$1350\",\n",
    "    (\"antalya\", \"paris\"): \"$790\",\n",
    "    (\"istanbul\", \"paris\"): \"$899\"\n",
    "}\n"
   ]
  },
  {
   "cell_type": "code",
   "execution_count": 5,
   "id": "4544f1da-329f-4d47-b1c3-e71fa6c37210",
   "metadata": {},
   "outputs": [],
   "source": [
    "\n",
    "# 4. Bilet fiyatı fonksiyonu (güvenli)\n",
    "def get_ticket_price(departure_city, destination_city):\n",
    "    if not departure_city or not destination_city:\n",
    "        return \"Error: both departure and destination cities are required.\"\n",
    "    key = (departure_city.lower(), destination_city.lower())\n",
    "    price = ticket_prices.get(key)\n",
    "    return price if price else f\"Estimated price from {departure_city.title()} to {destination_city.title()} is around $1000.\""
   ]
  },
  {
   "cell_type": "code",
   "execution_count": 6,
   "id": "81103d67-2795-437a-b5e8-7ec30715a335",
   "metadata": {},
   "outputs": [],
   "source": [
    "\n",
    "# 5. PNR üretici & rezervasyon fonksiyonu (tarih destekli)\n",
    "def generate_pnr():\n",
    "    return ''.join(random.choices(string.ascii_uppercase + string.digits, k=6))\n",
    "\n",
    "def make_reservation(departure_city, destination_city, travel_date):\n",
    "    pnr = generate_pnr()\n",
    "    # travel_date format 'YYYY-MM-DD'\n",
    "    try:\n",
    "        fly_date = datetime.fromisoformat(travel_date)\n",
    "        date_str = fly_date.strftime(\"%d %B %Y\")\n",
    "    except:\n",
    "        date_str = travel_date\n",
    "    return (\n",
    "        f\"Your reservation from {departure_city.title()} to {destination_city.title()} on {date_str} is confirmed.\\n\"\n",
    "        f\"Flight departs at 13:45 local time.\\n\"\n",
    "        f\"Reservation Code (PNR): {pnr}.\\n\"\n",
    "        f\"Seat selection will be available during check-in.\"\n",
    "    )"
   ]
  },
  {
   "cell_type": "code",
   "execution_count": 7,
   "id": "82868ca9-ab4e-4496-ad68-ac7d01137a3d",
   "metadata": {},
   "outputs": [],
   "source": [
    "# 6. Fonksiyon sarmalayıcıları\n",
    "def get_ticket_price_fn(departure_city: str, destination_city: str) -> str:\n",
    "    return get_ticket_price(departure_city, destination_city)\n",
    "\n",
    "def make_reservation_fn(departure_city: str, destination_city: str, travel_date: str) -> str:\n",
    "    return make_reservation(departure_city, destination_city, travel_date)\n"
   ]
  },
  {
   "cell_type": "code",
   "execution_count": 8,
   "id": "3420617f-7d53-410f-a609-21583f6f909a",
   "metadata": {},
   "outputs": [],
   "source": [
    "\n",
    "# 7. Fonksiyon tanımları\n",
    "functions = [\n",
    "    {\n",
    "        \"name\": \"get_ticket_price\",\n",
    "        \"description\": \"Returns the ticket price between a departure and destination city.\",\n",
    "        \"parameters\": {\n",
    "            \"type\": \"object\",\n",
    "            \"properties\": {\n",
    "                \"departure_city\": {\"type\": \"string\", \"description\": \"Departure city.\"},\n",
    "                \"destination_city\": {\"type\": \"string\", \"description\": \"Destination city.\"}\n",
    "            },\n",
    "            \"required\": [\"departure_city\", \"destination_city\"]\n",
    "        }\n",
    "    },\n",
    "    {\n",
    "        \"name\": \"make_reservation\",\n",
    "        \"description\": \"Reserves a flight from departure to destination city on a given date and returns reservation details.\",\n",
    "        \"parameters\": {\n",
    "            \"type\": \"object\",\n",
    "            \"properties\": {\n",
    "                \"departure_city\": {\"type\": \"string\", \"description\": \"Departure city.\"},\n",
    "                \"destination_city\": {\"type\": \"string\", \"description\": \"Destination city.\"},\n",
    "                \"travel_date\": {\"type\": \"string\", \"description\": \"Travel date in YYYY-MM-DD format.\"}\n",
    "            },\n",
    "            \"required\": [\"departure_city\", \"destination_city\", \"travel_date\"]\n",
    "        }\n",
    "    }\n",
    "]"
   ]
  },
  {
   "cell_type": "code",
   "execution_count": 9,
   "id": "44dc01e7-d190-47c3-8065-292760136a90",
   "metadata": {},
   "outputs": [],
   "source": [
    "# 8. Sistem mesajı\n",
    "system_message = (\n",
    "    \"You are a helpful assistant for an airline called FlightAI. \"\n",
    "    \"Never call any functions unless both the departure city, destination city, and travel date are clearly provided. \"\n",
    "    \"If the user mentions only destination or departure, ask for the missing details. \"\n",
    "    \"Ask explicitly for travel date in YYYY-MM-DD format.\"\n",
    ")\n"
   ]
  },
  {
   "cell_type": "code",
   "execution_count": 10,
   "id": "55c1dd7e-999d-400e-afc9-dbd7f2da85f2",
   "metadata": {},
   "outputs": [],
   "source": [
    "\n",
    "# 9. Ana sohbet fonksiyonu\n",
    "def chat(message, history):\n",
    "    msgs = [{\"role\": \"system\", \"content\": system_message}] + history + [{\"role\": \"user\", \"content\": message}]\n",
    "    # Modeli çağır ve varsa fonksiyon isteği al\n",
    "    response = openai.chat.completions.create(\n",
    "        model=MODEL,\n",
    "        messages=msgs,\n",
    "        functions=functions\n",
    "    )\n",
    "    msg = response.choices[0].message\n",
    "    # Eğer fonksiyon çağırıldıysa\n",
    "    if msg.function_call:\n",
    "        fname = msg.function_call.name\n",
    "        args = json.loads(msg.function_call.arguments)\n",
    "        # Parametre kontrolü\n",
    "        if fname == \"get_ticket_price\":\n",
    "            result = get_ticket_price_fn(**args)\n",
    "        else:\n",
    "            # Önce rezervasyon için tarih parametresini al\n",
    "            result = make_reservation_fn(**args)\n",
    "        # Fonksiyon çağrı ve yanıtını ekle\n",
    "        msgs.append({\"role\": \"assistant\", \"content\": None, \"function_call\": msg.function_call.to_dict()})\n",
    "        msgs.append({\"role\": \"function\", \"name\": fname, \"content\": json.dumps(result)})\n",
    "        # Son cevabı al\n",
    "        response = openai.chat.completions.create(model=MODEL, messages=msgs)\n",
    "        return response.choices[0].message.content\n",
    "    return msg.content\n"
   ]
  },
  {
   "cell_type": "code",
   "execution_count": 13,
   "id": "d45b4c62-5472-4970-a202-d08cfb0f3640",
   "metadata": {},
   "outputs": [
    {
     "name": "stdout",
     "output_type": "stream",
     "text": [
      "* Running on local URL:  http://127.0.0.1:7861\n",
      "\n",
      "To create a public link, set `share=True` in `launch()`.\n"
     ]
    },
    {
     "data": {
      "text/html": [
       "<div><iframe src=\"http://127.0.0.1:7861/\" width=\"100%\" height=\"500\" allow=\"autoplay; camera; microphone; clipboard-read; clipboard-write;\" frameborder=\"0\" allowfullscreen></iframe></div>"
      ],
      "text/plain": [
       "<IPython.core.display.HTML object>"
      ]
     },
     "metadata": {},
     "output_type": "display_data"
    },
    {
     "data": {
      "text/plain": []
     },
     "execution_count": 13,
     "metadata": {},
     "output_type": "execute_result"
    }
   ],
   "source": [
    "# 10. Gradio arayüzünü başlat\n",
    "gr.ChatInterface(fn=chat, type=\"messages\").launch()"
   ]
  },
  {
   "cell_type": "markdown",
   "id": "364d19ef-b87d-4a34-9837-4d2a4fbbf2f6",
   "metadata": {},
   "source": [
    "uçuş saati toolu"
   ]
  },
  {
   "cell_type": "code",
   "execution_count": null,
   "id": "fe08fd31-d20a-40a5-89b9-35481f4ee6ed",
   "metadata": {},
   "outputs": [],
   "source": [
    "# FlightAI Tool Calling Demo for Jupyter Notebook\n",
    "\n",
    "# Cell 1: Imports and API setup\n",
    "from dotenv import load_dotenv\n",
    "import os\n",
    "import json\n",
    "import uuid\n",
    "from openai import OpenAI\n",
    "import gradio as gr\n"
   ]
  },
  {
   "cell_type": "code",
   "execution_count": null,
   "id": "75e45e1f-3122-4337-9fcb-8b2b52648a0c",
   "metadata": {},
   "outputs": [],
   "source": [
    "# Load environment variables and initialize OpenAI client\n",
    "load_dotenv(override=True)\n",
    "openai_api_key = os.getenv(\"OPENAI_API_KEY\")\n",
    "if not openai_api_key:\n",
    "    raise ValueError(\"OpenAI API key not found in environment\")\n",
    "openai = OpenAI()\n",
    "MODEL = \"gpt-4o-mini\"\n"
   ]
  },
  {
   "cell_type": "code",
   "execution_count": null,
   "id": "3813281a-2b9e-4b74-b06f-4a0a35278406",
   "metadata": {},
   "outputs": [],
   "source": [
    "# Cell 2: Demo Data\n",
    "# Ticket prices for demonstration purposes\n",
    "ticket_prices = {\"london\": \"$799\", \"paris\": \"$899\", \"tokyo\": \"$1400\", \"berlin\": \"$499\"}\n",
    "# Flight schedule data without dates for simplicity\n",
    "flight_schedule = [\n",
    "    {\"from\": \"istanbul\", \"to\": \"paris\", \"time\": \"08:30\"},\n",
    "    {\"from\": \"istanbul\", \"to\": \"paris\", \"time\": \"15:45\"},\n",
    "    {\"from\": \"istanbul\", \"to\": \"berlin\", \"time\": \"09:15\"},\n",
    "    {\"from\": \"ankara\", \"to\": \"paris\", \"time\": \"11:00\"}\n",
    "]\n"
   ]
  },
  {
   "cell_type": "code",
   "execution_count": null,
   "id": "f5da4eb1-5258-4345-a7c9-72a85ea897d3",
   "metadata": {},
   "outputs": [],
   "source": [
    "# Cell 3: Tool Functions\n",
    "def get_ticket_price(destination_city):\n",
    "    print(f\"Tool get_ticket_price called for {destination_city}\")\n",
    "    return ticket_prices.get(destination_city.lower(), \"Unknown\")\n",
    "\n",
    "def get_flight_time(departure_city, destination_city):\n",
    "    print(f\"Tool get_flight_time called for {departure_city}->{destination_city}\")\n",
    "    dep = departure_city.lower()\n",
    "    dest = destination_city.lower()\n",
    "    for f in flight_schedule:\n",
    "        if f[\"from\"] == dep and f[\"to\"] == dest:\n",
    "            return f[\"time\"]\n",
    "    return \"No flights found\"\n",
    "\n",
    "def book_flight(departure_city, destination_city, date, passenger_name):\n",
    "    print(f\"Tool book_flight called for {departure_city}->{destination_city} on {date} for {passenger_name}\")\n",
    "    time = get_flight_time(departure_city, destination_city)\n",
    "    price = get_ticket_price(destination_city)\n",
    "    if time.startswith(\"No\"):\n",
    "        return {\"status\": \"error\", \"message\": \"No flights available\"}\n",
    "    pnr = str(uuid.uuid4())[:6].upper()\n",
    "    return {\n",
    "        \"status\": \"ok\",\n",
    "        \"departure_city\": departure_city,\n",
    "        \"destination_city\": destination_city,\n",
    "        \"date\": date,\n",
    "        \"time\": time,\n",
    "        \"price\": price,\n",
    "        \"passenger_name\": passenger_name,\n",
    "        \"pnr\": pnr\n",
    "    }"
   ]
  },
  {
   "cell_type": "code",
   "execution_count": null,
   "id": "e3a6469d-48f4-4601-be71-3fc164ec5ce3",
   "metadata": {},
   "outputs": [],
   "source": [
    "# Cell 4: Tool Schemas\n",
    "price_function = {\n",
    "    \"name\": \"get_ticket_price\",\n",
    "    \"description\": \"Get the price of a return ticket to the destination city.\",\n",
    "    \"parameters\": {\n",
    "        \"type\": \"object\",\n",
    "        \"properties\": {\n",
    "            \"destination_city\": {\"type\": \"string\", \"description\": \"The city that the customer wants to travel to\"}\n",
    "        },\n",
    "        \"required\": [\"destination_city\"],\n",
    "        \"additionalProperties\": False\n",
    "    }\n",
    "}\n",
    "\n",
    "flight_time_function = {\n",
    "    \"name\": \"get_flight_time\",\n",
    "    \"description\": \"Get the departure time for a flight between two cities.\",\n",
    "    \"parameters\": {\n",
    "        \"type\": \"object\",\n",
    "        \"properties\": {\n",
    "            \"departure_city\": {\"type\": \"string\", \"description\": \"The city the passenger is flying from\"},\n",
    "            \"destination_city\": {\"type\": \"string\", \"description\": \"The city the passenger wants to fly to\"}\n",
    "        },\n",
    "        \"required\": [\"departure_city\", \"destination_city\"],\n",
    "        \"additionalProperties\": False\n",
    "    }\n",
    "}\n",
    "\n",
    "book_flight_function = {\n",
    "    \"name\": \"book_flight\",\n",
    "    \"description\": \"Book a flight given departure, destination, date and passenger name; returns booking details.\",\n",
    "    \"parameters\": {\n",
    "        \"type\": \"object\",\n",
    "        \"properties\": {\n",
    "            \"departure_city\": {\"type\": \"string\", \"description\": \"Departure city\"},\n",
    "            \"destination_city\": {\"type\": \"string\", \"description\": \"Destination city\"},\n",
    "            \"date\": {\"type\": \"string\", \"description\": \"Travel date in YYYY-MM-DD\"},\n",
    "            \"passenger_name\": {\"type\": \"string\", \"description\": \"Name of the passenger\"}\n",
    "        },\n",
    "        \"required\": [\"departure_city\", \"destination_city\", \"date\", \"passenger_name\"],\n",
    "        \"additionalProperties\": False\n",
    "    }\n",
    "}\n",
    "\n",
    "tools = [\n",
    "    {\"type\": \"function\", \"function\": price_function},\n",
    "    {\"type\": \"function\", \"function\": flight_time_function},\n",
    "    {\"type\": \"function\", \"function\": book_flight_function}\n",
    "]"
   ]
  },
  {
   "cell_type": "code",
   "execution_count": null,
   "id": "bdf1103d-3d71-47fb-9f90-c8d70fc8729b",
   "metadata": {},
   "outputs": [],
   "source": [
    "# Cell 5: System Message\n",
    "system_message = (\n",
    "    \"You are a FlightAI assistant. When the user provides departure, destination, and date, \"\n",
    "    \"first call get_flight_time and get_ticket_price to fetch time and price, \"\n",
    "    \"then ask for confirmation and passenger name. Only after confirmation, call book_flight.\"\n",
    ")\n"
   ]
  },
  {
   "cell_type": "code",
   "execution_count": null,
   "id": "8048d0ff-bc79-4268-a298-a0ba95d1976a",
   "metadata": {},
   "outputs": [],
   "source": [
    "# Cell 6: Tool Call Handler\n",
    "def handle_tool_call(tool_call):\n",
    "    name = tool_call.function.name\n",
    "    args = json.loads(tool_call.function.arguments)\n",
    "    if name == \"get_ticket_price\":\n",
    "        result = get_ticket_price(args[\"destination_city\"])\n",
    "    elif name == \"get_flight_time\":\n",
    "        result = get_flight_time(args[\"departure_city\"], args[\"destination_city\"])\n",
    "    elif name == \"book_flight\":\n",
    "        result = book_flight(\n",
    "            args[\"departure_city\"],\n",
    "            args[\"destination_city\"],\n",
    "            args[\"date\"],\n",
    "            args[\"passenger_name\"]\n",
    "        )\n",
    "    else:\n",
    "        result = {}\n",
    "    return {\n",
    "        \"role\": \"tool\",\n",
    "        \"tool_call_id\": tool_call.id,\n",
    "        \"content\": json.dumps(result)\n",
    "    }\n"
   ]
  },
  {
   "cell_type": "code",
   "execution_count": null,
   "id": "4820e62a-afa2-4104-8a0f-afd2cec5fa2d",
   "metadata": {},
   "outputs": [],
   "source": [
    "# Cell 7: Chat Function\n",
    "def chat(message, history):\n",
    "    messages = [{\"role\": \"system\", \"content\": system_message}] + history + [{\"role\": \"user\", \"content\": message}]\n",
    "    response = openai.chat.completions.create(model=MODEL, messages=messages, tools=tools)\n",
    "    # Handle all tool calls\n",
    "    while response.choices[0].finish_reason == \"tool_calls\":\n",
    "        tool_msg = response.choices[0].message\n",
    "        messages.append(tool_msg)\n",
    "        for tc in tool_msg.tool_calls:\n",
    "            tool_response = handle_tool_call(tc)\n",
    "            messages.append(tool_response)\n",
    "        response = openai.chat.completions.create(model=MODEL, messages=messages, tools=tools)\n",
    "    return response.choices[0].message.content"
   ]
  },
  {
   "cell_type": "code",
   "execution_count": 23,
   "id": "4381398f-5e29-421e-a39e-ac7c2757126e",
   "metadata": {},
   "outputs": [
    {
     "name": "stdout",
     "output_type": "stream",
     "text": [
      "* Running on local URL:  http://127.0.0.1:7864\n",
      "\n",
      "To create a public link, set `share=True` in `launch()`.\n"
     ]
    },
    {
     "data": {
      "text/html": [
       "<div><iframe src=\"http://127.0.0.1:7864/\" width=\"100%\" height=\"500\" allow=\"autoplay; camera; microphone; clipboard-read; clipboard-write;\" frameborder=\"0\" allowfullscreen></iframe></div>"
      ],
      "text/plain": [
       "<IPython.core.display.HTML object>"
      ]
     },
     "metadata": {},
     "output_type": "display_data"
    },
    {
     "data": {
      "text/plain": []
     },
     "execution_count": 23,
     "metadata": {},
     "output_type": "execute_result"
    },
    {
     "name": "stdout",
     "output_type": "stream",
     "text": [
      "Tool get_flight_time called for Istanbul->Paris\n",
      "Tool get_ticket_price called for Paris\n",
      "Tool book_flight called for Istanbul->Paris on 2025-08-12 for Ali Veli\n",
      "Tool get_flight_time called for Istanbul->Paris\n",
      "Tool get_ticket_price called for Paris\n",
      "Tool book_flight called for Istanbul->Paris on 2025-08-12 for Ali Veli\n",
      "Tool get_flight_time called for Istanbul->Paris\n",
      "Tool get_ticket_price called for Paris\n",
      "Tool book_flight called for Istanbul->Paris on 2025-08-12 for Maria Veli\n",
      "Tool get_flight_time called for Istanbul->Paris\n",
      "Tool get_ticket_price called for Paris\n"
     ]
    }
   ],
   "source": [
    "\n",
    "# Cell 8: Launch Gradio Interface\n",
    "gr.ChatInterface(fn=chat, type=\"messages\", title=\"FlightAI Demo\").launch()\n"
   ]
  },
  {
   "cell_type": "code",
   "execution_count": null,
   "id": "949611a4-1262-4d52-995c-89f594d32f4c",
   "metadata": {},
   "outputs": [],
   "source": []
  }
 ],
 "metadata": {
  "kernelspec": {
   "display_name": "Python 3 (ipykernel)",
   "language": "python",
   "name": "python3"
  },
  "language_info": {
   "codemirror_mode": {
    "name": "ipython",
    "version": 3
   },
   "file_extension": ".py",
   "mimetype": "text/x-python",
   "name": "python",
   "nbconvert_exporter": "python",
   "pygments_lexer": "ipython3",
   "version": "3.11.12"
  }
 },
 "nbformat": 4,
 "nbformat_minor": 5
}
