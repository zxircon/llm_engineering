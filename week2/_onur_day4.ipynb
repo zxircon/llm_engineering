{
 "cells": [
  {
   "cell_type": "markdown",
   "id": "ddfa9ae6-69fe-444a-b994-8c4c5970a7ec",
   "metadata": {},
   "source": [
    "# Project - Airline AI Assistant\n",
    "\n",
    "We'll now bring together what we've learned to make an AI Customer Support assistant for an Airline"
   ]
  },
  {
   "cell_type": "markdown",
   "id": "0037a8ff-5ae0-49f5-a86a-a0ef892ee135",
   "metadata": {},
   "source": [
    "burdan sonraki ksıım ucak rezervasyonu için ekeldim"
   ]
  },
  {
   "cell_type": "code",
   "execution_count": 60,
   "id": "569056e5-0f90-494e-96ed-35bb259f5c18",
   "metadata": {},
   "outputs": [],
   "source": [
    "def handle_tool_call(message):\n",
    "    tool_call = message.tool_calls[0]\n",
    "    tool_name = tool_call.function.name\n",
    "    arguments = json.loads(tool_call.function.arguments)\n",
    "\n",
    "    if tool_name == \"get_ticket_price\":\n",
    "        city = arguments.get(\"destination_city\")\n",
    "        price = get_ticket_price(city)\n",
    "        content = json.dumps({\"destination_city\": city, \"price\": price})\n",
    "\n",
    "    elif tool_name == \"make_reservation\":\n",
    "        from_city = arguments.get(\"departure_city\")\n",
    "        to_city = arguments.get(\"destination_city\")\n",
    "        result = make_reservation(from_city, to_city)\n",
    "        content = json.dumps({\"message\": result})\n",
    "\n",
    "    else:\n",
    "        content = json.dumps({\"message\": \"Unknown tool\"})\n",
    "\n",
    "    response = {\n",
    "        \"role\": \"tool\",\n",
    "        \"content\": content,\n",
    "        \"tool_call_id\": tool_call.id\n",
    "    }\n",
    "\n",
    "    return response, arguments.get(\"destination_city\")\n",
    "\n"
   ]
  },
  {
   "cell_type": "code",
   "execution_count": 61,
   "id": "d06a814d-a022-4dfd-96ac-ede2b48c3da0",
   "metadata": {},
   "outputs": [],
   "source": [
    "tools = [get_ticket_price_tool, make_reservation_tool]"
   ]
  },
  {
   "cell_type": "code",
   "execution_count": 62,
   "id": "3eaf3ff9-268e-46ee-a154-bb81866da7ca",
   "metadata": {},
   "outputs": [
    {
     "name": "stdout",
     "output_type": "stream",
     "text": [
      "* Running on local URL:  http://127.0.0.1:7893\n",
      "\n",
      "To create a public link, set `share=True` in `launch()`.\n"
     ]
    },
    {
     "data": {
      "text/html": [
       "<div><iframe src=\"http://127.0.0.1:7893/\" width=\"100%\" height=\"500\" allow=\"autoplay; camera; microphone; clipboard-read; clipboard-write;\" frameborder=\"0\" allowfullscreen></iframe></div>"
      ],
      "text/plain": [
       "<IPython.core.display.HTML object>"
      ]
     },
     "metadata": {},
     "output_type": "display_data"
    },
    {
     "data": {
      "text/plain": []
     },
     "execution_count": 62,
     "metadata": {},
     "output_type": "execute_result"
    }
   ],
   "source": [
    "gr.ChatInterface(fn=chat, type=\"messages\").launch()"
   ]
  },
  {
   "cell_type": "code",
   "execution_count": 1,
   "id": "5d02a0b4-3fac-46a5-a405-ad6d87b01637",
   "metadata": {},
   "outputs": [],
   "source": [
    "# 1. Gerekli kütüphaneleri yükle\n",
    "import os\n",
    "import json\n",
    "import random\n",
    "import string\n",
    "from datetime import datetime, timedelta\n",
    "from dotenv import load_dotenv\n",
    "from openai import OpenAI\n",
    "import gradio as gr\n"
   ]
  },
  {
   "cell_type": "code",
   "execution_count": 2,
   "id": "2e9c298e-c6c8-4b4a-932f-e774e771dddd",
   "metadata": {},
   "outputs": [],
   "source": [
    "# 2. Ortam değişkenlerini yükle\n",
    "load_dotenv(override=True)\n",
    "openai_api_key = os.getenv(\"OPENAI_API_KEY\")\n",
    "openai = OpenAI()\n",
    "MODEL = \"gpt-4o-mini\"\n"
   ]
  },
  {
   "cell_type": "code",
   "execution_count": 3,
   "id": "b77672a7-72ba-4a0f-896c-36c246194869",
   "metadata": {},
   "outputs": [],
   "source": [
    "# 3. Uçak bileti fiyatları sözlüğü (çift şehirli anahtarlarla)\n",
    "ticket_prices = {\n",
    "    (\"istanbul\", \"berlin\"): \"$499\",\n",
    "    (\"istanbul\", \"tokyo\"): \"$1400\",\n",
    "    (\"ankara\", \"berlin\"): \"$550\",\n",
    "    (\"izmir\", \"tokyo\"): \"$1350\",\n",
    "    (\"antalya\", \"paris\"): \"$790\",\n",
    "    (\"istanbul\", \"paris\"): \"$899\"\n",
    "}\n"
   ]
  },
  {
   "cell_type": "code",
   "execution_count": 4,
   "id": "49cbf915-915b-44ed-8c0f-e1d32c3c97c4",
   "metadata": {},
   "outputs": [],
   "source": [
    "# 4. Bilet fiyatı fonksiyonu (güvenli)\n",
    "def get_ticket_price(departure_city, destination_city):\n",
    "    if not departure_city or not destination_city:\n",
    "        return \"Error: both departure and destination cities are required.\"\n",
    "    key = (departure_city.lower(), destination_city.lower())\n",
    "    price = ticket_prices.get(key)\n",
    "    if price:\n",
    "        return price\n",
    "    else:\n",
    "        return f\"Estimated price from {departure_city.title()} to {destination_city.title()} is around $1000.\"\n"
   ]
  },
  {
   "cell_type": "code",
   "execution_count": 5,
   "id": "923fdb12-421c-456a-bfdd-c4314c1904d2",
   "metadata": {},
   "outputs": [],
   "source": [
    "# 5. PNR üretici & rezervasyon fonksiyonu\n",
    "def generate_pnr():\n",
    "    return ''.join(random.choices(string.ascii_uppercase + string.digits, k=6))\n",
    "\n",
    "def make_reservation(departure_city, destination_city):\n",
    "    pnr = generate_pnr()\n",
    "    flight_time = datetime.now() + timedelta(days=1)\n",
    "    time_str = flight_time.strftime(\"%d %B %Y at %H:%M\")\n",
    "    return (\n",
    "        f\"Your reservation from {departure_city.title()} to {destination_city.title()} is confirmed.\\n\"\n",
    "        f\"Flight departs on {time_str}.\\n\"\n",
    "        f\"Reservation Code (PNR): {pnr}.\\n\"\n",
    "        f\"Seat selection will be available during check-in.\"\n",
    "    )\n"
   ]
  },
  {
   "cell_type": "code",
   "execution_count": 6,
   "id": "3312af73-e09c-4f9b-a874-9d4c2735befa",
   "metadata": {},
   "outputs": [],
   "source": [
    "\n",
    "# 6. Tool tanımları\n",
    "get_ticket_price_tool = {\n",
    "    \"type\": \"function\",\n",
    "    \"function\": {\n",
    "        \"name\": \"get_ticket_price\",\n",
    "        \"description\": \"Returns the ticket price between a departure and destination city.\",\n",
    "        \"parameters\": {\n",
    "            \"type\": \"object\",\n",
    "            \"properties\": {\n",
    "                \"departure_city\": {\n",
    "                    \"type\": \"string\",\n",
    "                    \"description\": \"City where the passenger will depart from\"\n",
    "                },\n",
    "                \"destination_city\": {\n",
    "                    \"type\": \"string\",\n",
    "                    \"description\": \"City where the passenger wants to travel\"\n",
    "                }\n",
    "            },\n",
    "            \"required\": [\"departure_city\", \"destination_city\"]\n",
    "        }\n",
    "    }\n",
    "}\n",
    "\n",
    "make_reservation_tool = {\n",
    "    \"type\": \"function\",\n",
    "    \"function\": {\n",
    "        \"name\": \"make_reservation\",\n",
    "        \"description\": \"Makes a reservation from a departure to a destination city.\",\n",
    "        \"parameters\": {\n",
    "            \"type\": \"object\",\n",
    "            \"properties\": {\n",
    "                \"departure_city\": {\n",
    "                    \"type\": \"string\",\n",
    "                    \"description\": \"City where the passenger will depart from\"\n",
    "                },\n",
    "                \"destination_city\": {\n",
    "                    \"type\": \"string\",\n",
    "                    \"description\": \"City where the passenger wants to travel\"\n",
    "                }\n",
    "            },\n",
    "            \"required\": [\"departure_city\", \"destination_city\"]\n",
    "        }\n",
    "    }\n",
    "}\n"
   ]
  },
  {
   "cell_type": "code",
   "execution_count": 7,
   "id": "db02ad26-7ed2-4bd1-b669-45357bb2769e",
   "metadata": {},
   "outputs": [],
   "source": [
    "# 7. Tools listesi\n",
    "tools = [get_ticket_price_tool, make_reservation_tool]"
   ]
  },
  {
   "cell_type": "code",
   "execution_count": 8,
   "id": "62220f88-9d4a-4069-bbcb-de5ed93f04b8",
   "metadata": {},
   "outputs": [],
   "source": [
    "# 8. Sistem mesajı\n",
    "system_message = (\n",
    "    \"You are a helpful assistant for an airline called FlightAI. \"\n",
    "    \"Never call any tools unless both the departure and destination cities are clearly provided. \"\n",
    "    \"If the user says only a destination, such as 'I want to go to Berlin', ask them: \"\n",
    "    \"'From which city would you like to fly to Berlin?' \"\n",
    ")"
   ]
  },
  {
   "cell_type": "code",
   "execution_count": 16,
   "id": "4e0e308b-a134-46d6-a986-d913dc143a28",
   "metadata": {},
   "outputs": [],
   "source": [
    "# 9. Tool çağrısı yöneticisi\n",
    "def handle_tool_call(message):\n",
    "    tool_call = message.tool_calls[0]\n",
    "    tool_name = tool_call.function.name\n",
    "    arguments = json.loads(tool_call.function.arguments)\n",
    "\n",
    "    if tool_name == \"get_ticket_price\":\n",
    "        from_city = arguments.get(\"departure_city\")\n",
    "        to_city = arguments.get(\"destination_city\")\n",
    "        price = get_ticket_price(from_city, to_city)\n",
    "        content = json.dumps({\n",
    "            \"departure_city\": from_city,\n",
    "            \"destination_city\": to_city,\n",
    "            \"price\": price\n",
    "        })\n",
    "\n",
    "    elif tool_name == \"make_reservation\":\n",
    "        from_city = arguments.get(\"departure_city\")\n",
    "        to_city = arguments.get(\"destination_city\")\n",
    "        result = make_reservation(from_city, to_city)\n",
    "        content = json.dumps({\"message\": result})\n",
    "\n",
    "    else:\n",
    "        content = json.dumps({\"message\": \"Unknown tool called.\"})\n",
    "\n",
    "    response = {\n",
    "        \"role\": \"tool\",\n",
    "        \"content\": content,\n",
    "        \"tool_call_id\": tool_call.id\n",
    "    }\n",
    "\n",
    "    return response, arguments.get(\"destination_city\")"
   ]
  },
  {
   "cell_type": "code",
   "execution_count": 17,
   "id": "1882193f-a878-4536-ba1b-08f733087846",
   "metadata": {},
   "outputs": [],
   "source": [
    "\n",
    "# 10. Ana sohbet fonksiyonu\n",
    "def chat(message, history):\n",
    "    messages = [{\"role\": \"system\", \"content\": system_message}] + history + [{\"role\": \"user\", \"content\": message}]\n",
    "    \n",
    "    # 1. İlk LLM çağrısı (tool_call yapılabilir)\n",
    "    response = openai.chat.completions.create(model=MODEL, messages=messages, tools=tools)\n",
    "\n",
    "    # 2. Eğer LLM bir tool_call yaptıysa:\n",
    "    if response.choices[0].finish_reason == \"tool_calls\":\n",
    "        assistant_message = response.choices[0].message              # tool_call içeren assistant mesajı\n",
    "        tool_response, _ = handle_tool_call(assistant_message)       # Python'da tool çalıştır, yanıtını al\n",
    "\n",
    "        # ❗Tool çağrısına karşılık gelen cevabı ekliyoruz\n",
    "        messages.append(assistant_message)   # role: \"assistant\", tool_calls içeriyor\n",
    "        messages.append(tool_response)       # role: \"tool\", tool_call_id eşleşiyor\n",
    "\n",
    "        # 3. LLM'e tekrar gönder → artık elinde hem tool_call hem tool cevabı var\n",
    "        response = openai.chat.completions.create(model=MODEL, messages=messages)\n",
    "\n",
    "    # 4. Son cevabı döndür\n",
    "    return response.choices[0].message.content\n",
    "\n"
   ]
  },
  {
   "cell_type": "code",
   "execution_count": null,
   "id": "01b8a7f9-fa8b-4c2e-8d00-799c5f3c31b4",
   "metadata": {},
   "outputs": [],
   "source": []
  },
  {
   "cell_type": "code",
   "execution_count": 23,
   "id": "e7ad9587-ed26-4b63-8148-2ae2c3d28d0a",
   "metadata": {},
   "outputs": [
    {
     "name": "stdout",
     "output_type": "stream",
     "text": [
      "* Running on local URL:  http://127.0.0.1:7903\n",
      "\n",
      "To create a public link, set `share=True` in `launch()`.\n"
     ]
    },
    {
     "data": {
      "text/html": [
       "<div><iframe src=\"http://127.0.0.1:7903/\" width=\"100%\" height=\"500\" allow=\"autoplay; camera; microphone; clipboard-read; clipboard-write;\" frameborder=\"0\" allowfullscreen></iframe></div>"
      ],
      "text/plain": [
       "<IPython.core.display.HTML object>"
      ]
     },
     "metadata": {},
     "output_type": "display_data"
    },
    {
     "data": {
      "text/plain": []
     },
     "execution_count": 23,
     "metadata": {},
     "output_type": "execute_result"
    }
   ],
   "source": [
    "# ✈️ FlightAI Chatbot - Jupyter için Baştan Sona Kod\n",
    "\n",
    "# 1. Gerekli kütüphaneleri yükle\n",
    "import os\n",
    "import json\n",
    "import random\n",
    "import string\n",
    "from datetime import datetime\n",
    "from dotenv import load_dotenv\n",
    "from openai import OpenAI\n",
    "import gradio as gr\n",
    "\n",
    "# 2. Ortam değişkenlerini yükle\n",
    "load_dotenv(override=True)\n",
    "openai = OpenAI()\n",
    "MODEL = \"gpt-4o-mini\"\n",
    "\n",
    "# 3. Uçak bileti fiyatları sözlüğü (çift şehirli anahtarlarla)\n",
    "ticket_prices = {\n",
    "    (\"istanbul\", \"berlin\"): \"$499\",\n",
    "    (\"istanbul\", \"tokyo\"): \"$1400\",\n",
    "    (\"ankara\", \"berlin\"): \"$550\",\n",
    "    (\"izmir\", \"tokyo\"): \"$1350\",\n",
    "    (\"antalya\", \"paris\"): \"$790\",\n",
    "    (\"istanbul\", \"paris\"): \"$899\"\n",
    "}\n",
    "\n",
    "# 4. Bilet fiyatı fonksiyonu (güvenli)\n",
    "def get_ticket_price(departure_city, destination_city):\n",
    "    if not departure_city or not destination_city:\n",
    "        return \"Error: both departure and destination cities are required.\"\n",
    "    key = (departure_city.lower(), destination_city.lower())\n",
    "    price = ticket_prices.get(key)\n",
    "    return price if price else f\"Estimated price from {departure_city.title()} to {destination_city.title()} is around $1000.\"\n",
    "\n",
    "# 5. PNR üretici & rezervasyon fonksiyonu (tarih destekli)\n",
    "def generate_pnr():\n",
    "    return ''.join(random.choices(string.ascii_uppercase + string.digits, k=6))\n",
    "\n",
    "def make_reservation(departure_city, destination_city, travel_date):\n",
    "    pnr = generate_pnr()\n",
    "    # travel_date format 'YYYY-MM-DD'\n",
    "    try:\n",
    "        fly_date = datetime.fromisoformat(travel_date)\n",
    "        date_str = fly_date.strftime(\"%d %B %Y\")\n",
    "    except:\n",
    "        date_str = travel_date\n",
    "    return (\n",
    "        f\"Your reservation from {departure_city.title()} to {destination_city.title()} on {date_str} is confirmed.\\n\"\n",
    "        f\"Flight departs at 13:45 local time.\\n\"\n",
    "        f\"Reservation Code (PNR): {pnr}.\\n\"\n",
    "        f\"Seat selection will be available during check-in.\"\n",
    "    )\n",
    "\n",
    "# 6. Fonksiyon sarmalayıcıları\n",
    "def get_ticket_price_fn(departure_city: str, destination_city: str) -> str:\n",
    "    return get_ticket_price(departure_city, destination_city)\n",
    "\n",
    "def make_reservation_fn(departure_city: str, destination_city: str, travel_date: str) -> str:\n",
    "    return make_reservation(departure_city, destination_city, travel_date)\n",
    "\n",
    "# 7. Fonksiyon tanımları\n",
    "functions = [\n",
    "    {\n",
    "        \"name\": \"get_ticket_price\",\n",
    "        \"description\": \"Returns the ticket price between a departure and destination city.\",\n",
    "        \"parameters\": {\n",
    "            \"type\": \"object\",\n",
    "            \"properties\": {\n",
    "                \"departure_city\": {\"type\": \"string\", \"description\": \"Departure city.\"},\n",
    "                \"destination_city\": {\"type\": \"string\", \"description\": \"Destination city.\"}\n",
    "            },\n",
    "            \"required\": [\"departure_city\", \"destination_city\"]\n",
    "        }\n",
    "    },\n",
    "    {\n",
    "        \"name\": \"make_reservation\",\n",
    "        \"description\": \"Reserves a flight from departure to destination city on a given date and returns reservation details.\",\n",
    "        \"parameters\": {\n",
    "            \"type\": \"object\",\n",
    "            \"properties\": {\n",
    "                \"departure_city\": {\"type\": \"string\", \"description\": \"Departure city.\"},\n",
    "                \"destination_city\": {\"type\": \"string\", \"description\": \"Destination city.\"},\n",
    "                \"travel_date\": {\"type\": \"string\", \"description\": \"Travel date in YYYY-MM-DD format.\"}\n",
    "            },\n",
    "            \"required\": [\"departure_city\", \"destination_city\", \"travel_date\"]\n",
    "        }\n",
    "    }\n",
    "]\n",
    "\n",
    "# 8. Sistem mesajı\n",
    "system_message = (\n",
    "    \"You are a helpful assistant for an airline called FlightAI. \"\n",
    "    \"Never call any functions unless both the departure city, destination city, and travel date are clearly provided. \"\n",
    "    \"If the user mentions only destination or departure, ask for the missing details. \"\n",
    "    \"Ask explicitly for travel date in YYYY-MM-DD format.\"\n",
    ")\n",
    "\n",
    "# 9. Ana sohbet fonksiyonu\n",
    "def chat(message, history):\n",
    "    msgs = [{\"role\": \"system\", \"content\": system_message}] + history + [{\"role\": \"user\", \"content\": message}]\n",
    "    # Modeli çağır ve varsa fonksiyon isteği al\n",
    "    response = openai.chat.completions.create(\n",
    "        model=MODEL,\n",
    "        messages=msgs,\n",
    "        functions=functions\n",
    "    )\n",
    "    msg = response.choices[0].message\n",
    "    # Eğer fonksiyon çağırıldıysa\n",
    "    if msg.function_call:\n",
    "        fname = msg.function_call.name\n",
    "        args = json.loads(msg.function_call.arguments)\n",
    "        # Parametre kontrolü\n",
    "        if fname == \"get_ticket_price\":\n",
    "            result = get_ticket_price_fn(**args)\n",
    "        else:\n",
    "            # Önce rezervasyon için tarih parametresini al\n",
    "            result = make_reservation_fn(**args)\n",
    "        # Fonksiyon çağrı ve yanıtını ekle\n",
    "        msgs.append({\"role\": \"assistant\", \"content\": None, \"function_call\": msg.function_call.to_dict()})\n",
    "        msgs.append({\"role\": \"function\", \"name\": fname, \"content\": json.dumps(result)})\n",
    "        # Son cevabı al\n",
    "        response = openai.chat.completions.create(model=MODEL, messages=msgs)\n",
    "        return response.choices[0].message.content\n",
    "    return msg.content\n",
    "\n",
    "# 10. Gradio arayüzünü başlat\n",
    "gr.ChatInterface(fn=chat, type=\"messages\").launch()\n"
   ]
  },
  {
   "cell_type": "code",
   "execution_count": null,
   "id": "454f8311-14d2-4e1f-907b-e49ddc749ef1",
   "metadata": {},
   "outputs": [],
   "source": []
  }
 ],
 "metadata": {
  "kernelspec": {
   "display_name": "Python 3 (ipykernel)",
   "language": "python",
   "name": "python3"
  },
  "language_info": {
   "codemirror_mode": {
    "name": "ipython",
    "version": 3
   },
   "file_extension": ".py",
   "mimetype": "text/x-python",
   "name": "python",
   "nbconvert_exporter": "python",
   "pygments_lexer": "ipython3",
   "version": "3.11.12"
  }
 },
 "nbformat": 4,
 "nbformat_minor": 5
}
