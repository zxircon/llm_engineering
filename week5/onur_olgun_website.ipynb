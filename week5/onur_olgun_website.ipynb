{
 "cells": [
  {
   "cell_type": "markdown",
   "id": "dfe37963-1af6-44fc-a841-8e462443f5e6",
   "metadata": {},
   "source": [
    "## Expert Knowledge Worker\n",
    "\n",
    "### A question answering agent that is an expert knowledge worker\n",
    "### To be used by employees of Insurellm, an Insurance Tech company\n",
    "### The agent needs to be accurate and the solution should be low cost.\n",
    "\n",
    "This project will use RAG (Retrieval Augmented Generation) to ensure our question/answering assistant has high accuracy.\n",
    "\n",
    "This first implementation will use a simple, brute-force type of RAG.."
   ]
  },
  {
   "cell_type": "code",
   "execution_count": 1,
   "id": "815f0684-d2c2-4436-9e58-13b9053a6b31",
   "metadata": {},
   "outputs": [],
   "source": [
    "!pip install requests beautifulsoup4 --quiet"
   ]
  },
  {
   "cell_type": "code",
   "execution_count": 2,
   "id": "767ad66d-58c9-4299-8176-39d89810948b",
   "metadata": {},
   "outputs": [],
   "source": [
    "import requests\n",
    "from bs4 import BeautifulSoup\n",
    "\n",
    "def get_page_text(url):\n",
    "    \"\"\"Verilen URL'den temizlenmiş metin içerik döner.\"\"\"\n",
    "    response = requests.get(url)\n",
    "    if response.status_code != 200:\n",
    "        print(f\"❌ Failed to fetch {url}\")\n",
    "        return \"\"\n",
    "    \n",
    "    soup = BeautifulSoup(response.content, 'html.parser')\n",
    "    \n",
    "    # Header, footer, script gibi içerikleri çıkar\n",
    "    for tag in soup(['script', 'style', 'nav', 'footer']):\n",
    "        tag.decompose()\n",
    "\n",
    "    text = soup.get_text(separator='\\n', strip=True)\n",
    "    return text\n"
   ]
  },
  {
   "cell_type": "code",
   "execution_count": 5,
   "id": "67658716-dea9-4eee-bfbf-7eeadf3a158d",
   "metadata": {},
   "outputs": [
    {
     "name": "stdout",
     "output_type": "stream",
     "text": [
      "✅ Collected home page, 7055 characters\n",
      "✅ Collected about page, 2556 characters\n",
      "✅ Collected contact page, 712 characters\n",
      "✅ Collected bathroom page, 6172 characters\n",
      "✅ Collected kitchen page, 6560 characters\n",
      "✅ Collected basement page, 3497 characters\n",
      "✅ Collected room_addition page, 3659 characters\n",
      "✅ Collected deck page, 6266 characters\n",
      "✅ Collected repair page, 5671 characters\n"
     ]
    }
   ],
   "source": [
    "pages = {\n",
    "    \"home\": \"https://www.eliteconstructionde.com/\",\n",
    "    \"about\": \"https://www.eliteconstructionde.com/about\",\n",
    "    \"contact\": \"https://www.eliteconstructionde.com/contact\",\n",
    "    \"bathroom\": \"https://www.eliteconstructionde.com/bathroom-remodeling-services/\",\n",
    "    \"kitchen\": \"https://www.eliteconstructionde.com/kitchen-remodeling-services/\",\n",
    "    \"basement\": \"https://www.eliteconstructionde.com/basement-contractors/\",\n",
    "    \"room_addition\": \"https://www.eliteconstructionde.com/room-addition-contractors/\",\n",
    "    \"deck\": \"https://www.eliteconstructionde.com/deck-services/\",\n",
    "    \"repair\": \"https://www.eliteconstructionde.com/residential-repair-services/\"\n",
    "}\n",
    "\n",
    "raw_documents = []\n",
    "for name, url in pages.items():\n",
    "    text = get_page_text(url)\n",
    "    print(f\"✅ Collected {name} page, {len(text)} characters\")\n",
    "    raw_documents.append({\n",
    "        \"page\": name,\n",
    "        \"url\": url,\n",
    "        \"text\": text\n",
    "    })\n"
   ]
  },
  {
   "cell_type": "code",
   "execution_count": 6,
   "id": "3cf5a527-bc7a-4542-a75d-bc215de0468a",
   "metadata": {},
   "outputs": [],
   "source": [
    "!pip install langchain openai tiktoken chromadb --quiet\n"
   ]
  },
  {
   "cell_type": "code",
   "execution_count": 7,
   "id": "423c44ab-8c41-47c9-8bc3-c07160524820",
   "metadata": {},
   "outputs": [],
   "source": [
    "from langchain.schema import Document\n",
    "from langchain.text_splitter import CharacterTextSplitter\n"
   ]
  },
  {
   "cell_type": "code",
   "execution_count": 8,
   "id": "44199dd6-01bf-4f5a-8b0f-9ff2fe1ef62b",
   "metadata": {},
   "outputs": [],
   "source": [
    "documents = []\n",
    "\n",
    "for doc in raw_documents:\n",
    "    metadata = {\n",
    "        \"source\": doc[\"url\"],\n",
    "        \"page\": doc[\"page\"]\n",
    "    }\n",
    "    documents.append(Document(page_content=doc[\"text\"], metadata=metadata))\n"
   ]
  },
  {
   "cell_type": "code",
   "execution_count": 9,
   "id": "39932946-b6bf-443e-8d76-e4a37abce1f2",
   "metadata": {},
   "outputs": [
    {
     "name": "stdout",
     "output_type": "stream",
     "text": [
      "✅ Total chunks: 9\n",
      "📄 Chunk örneği:\n",
      "\n",
      "Home Remodeling Contractors Georgetown, DE | Elite Construction\n",
      "Plan Your Remodel Today!\n",
      "Walls Out, Worries Gone\n",
      "4.70/5.00\n",
      "Over 24 Happy Customers!\n",
      "Let Me Know What You Need Done!\n",
      "Have a home project in mind? I would love to help. Please fill out the contact form below, and I will get back to you as soon as I can.\n",
      "first name\n",
      "last name\n",
      "email\n",
      "Assistive text\n",
      "phone number\n",
      "Assistive text\n",
      "message\n",
      "Δ\n",
      "Leave this field empty\n",
      "Crafting Comfortable Homes From Within\n",
      "Your Dependable\n",
      "Home Remodeling Contractor...\n",
      "🔖 Metadata: {'source': 'https://www.eliteconstructionde.com/', 'page': 'home'}\n"
     ]
    }
   ],
   "source": [
    "text_splitter = CharacterTextSplitter(chunk_size=1000, chunk_overlap=200)\n",
    "chunks = text_splitter.split_documents(documents)\n",
    "\n",
    "print(f\"✅ Total chunks: {len(chunks)}\")\n",
    "print(f\"📄 Chunk örneği:\\n\\n{chunks[0].page_content[:500]}...\")\n",
    "print(f\"🔖 Metadata: {chunks[0].metadata}\")\n"
   ]
  },
  {
   "cell_type": "code",
   "execution_count": 10,
   "id": "b55dcbe2-868a-4e87-9b9f-5de24009261b",
   "metadata": {},
   "outputs": [
    {
     "data": {
      "text/plain": [
       "True"
      ]
     },
     "execution_count": 10,
     "metadata": {},
     "output_type": "execute_result"
    }
   ],
   "source": [
    "from langchain.embeddings import OpenAIEmbeddings\n",
    "from langchain.vectorstores import Chroma\n",
    "import os\n",
    "from dotenv import load_dotenv\n",
    "\n",
    "load_dotenv()\n"
   ]
  },
  {
   "cell_type": "code",
   "execution_count": 11,
   "id": "56007e1a-e85c-456e-ad21-da1cd45c0a42",
   "metadata": {},
   "outputs": [
    {
     "name": "stderr",
     "output_type": "stream",
     "text": [
      "C:\\Users\\Onur\\AppData\\Local\\Temp\\ipykernel_45884\\3993146642.py:1: LangChainDeprecationWarning: The class `OpenAIEmbeddings` was deprecated in LangChain 0.0.9 and will be removed in 1.0. An updated version of the class exists in the :class:`~langchain-openai package and should be used instead. To use it run `pip install -U :class:`~langchain-openai` and import as `from :class:`~langchain_openai import OpenAIEmbeddings``.\n",
      "  embedding = OpenAIEmbeddings()\n"
     ]
    }
   ],
   "source": [
    "embedding = OpenAIEmbeddings()\n"
   ]
  },
  {
   "cell_type": "code",
   "execution_count": 12,
   "id": "aa84cbcf-e7f7-4ac2-8d5f-69b838ac2128",
   "metadata": {},
   "outputs": [],
   "source": [
    "db_name = \"elite_vector_db\"\n",
    "\n",
    "# Önceki varsa sil (isteğe bağlı)\n",
    "import shutil\n",
    "if os.path.exists(db_name):\n",
    "    shutil.rmtree(db_name)\n"
   ]
  },
  {
   "cell_type": "code",
   "execution_count": 13,
   "id": "41a3901c-92a3-4638-817a-55ee7d12f3bd",
   "metadata": {},
   "outputs": [
    {
     "name": "stdout",
     "output_type": "stream",
     "text": [
      "✅ Vector DB created with 9 vectors.\n"
     ]
    }
   ],
   "source": [
    "vectorstore = Chroma.from_documents(\n",
    "    documents=chunks,\n",
    "    embedding=embedding,\n",
    "    persist_directory=db_name\n",
    ")\n",
    "\n",
    "print(f\"✅ Vector DB created with {vectorstore._collection.count()} vectors.\")\n"
   ]
  },
  {
   "cell_type": "code",
   "execution_count": 14,
   "id": "b676083f-50e7-42e6-8c25-120abe37f1f3",
   "metadata": {},
   "outputs": [],
   "source": [
    "from langchain.chat_models import ChatOpenAI\n",
    "from langchain.chains import ConversationalRetrievalChain\n",
    "from langchain.memory import ConversationBufferMemory\n"
   ]
  },
  {
   "cell_type": "code",
   "execution_count": 15,
   "id": "74ce0fb0-b9bf-4cdd-a445-cd37f09aa1aa",
   "metadata": {},
   "outputs": [
    {
     "name": "stderr",
     "output_type": "stream",
     "text": [
      "C:\\Users\\Onur\\AppData\\Local\\Temp\\ipykernel_45884\\3059087854.py:1: LangChainDeprecationWarning: The class `ChatOpenAI` was deprecated in LangChain 0.0.10 and will be removed in 1.0. An updated version of the class exists in the :class:`~langchain-openai package and should be used instead. To use it run `pip install -U :class:`~langchain-openai` and import as `from :class:`~langchain_openai import ChatOpenAI``.\n",
      "  llm = ChatOpenAI(model_name=\"gpt-4o\", temperature=0.3)\n"
     ]
    }
   ],
   "source": [
    "llm = ChatOpenAI(model_name=\"gpt-4o\", temperature=0.3)\n"
   ]
  },
  {
   "cell_type": "code",
   "execution_count": 16,
   "id": "5c9d208a-e520-4fe5-9b9a-0b77903773c2",
   "metadata": {},
   "outputs": [
    {
     "name": "stderr",
     "output_type": "stream",
     "text": [
      "C:\\Users\\Onur\\AppData\\Local\\Temp\\ipykernel_45884\\1056145233.py:3: LangChainDeprecationWarning: Please see the migration guide at: https://python.langchain.com/docs/versions/migrating_memory/\n",
      "  memory = ConversationBufferMemory(\n"
     ]
    }
   ],
   "source": [
    "retriever = vectorstore.as_retriever()\n",
    "\n",
    "memory = ConversationBufferMemory(\n",
    "    memory_key=\"chat_history\",\n",
    "    return_messages=True\n",
    ")\n"
   ]
  },
  {
   "cell_type": "code",
   "execution_count": 24,
   "id": "e75c5f1b-529e-48e3-b53b-671f55f02025",
   "metadata": {},
   "outputs": [],
   "source": [
    "from langchain.chat_models import ChatOpenAI\n",
    "from langchain.chains import ConversationalRetrievalChain\n",
    "from langchain.memory import ConversationBufferMemory\n",
    "\n",
    "llm = ChatOpenAI(model_name=\"gpt-4o\", temperature=0.3)\n",
    "\n",
    "retriever = vectorstore.as_retriever()\n",
    "\n",
    "memory = ConversationBufferMemory(\n",
    "    memory_key=\"chat_history\",\n",
    "    return_messages=True\n",
    ")\n",
    "\n",
    "conversation_chain = ConversationalRetrievalChain.from_llm(\n",
    "    llm=llm,\n",
    "    retriever=retriever,\n",
    "    memory=memory\n",
    ")\n"
   ]
  },
  {
   "cell_type": "code",
   "execution_count": 25,
   "id": "8c1dcb6a-00a4-4945-ad21-e44e1708cfa5",
   "metadata": {},
   "outputs": [
    {
     "name": "stdout",
     "output_type": "stream",
     "text": [
      "Elite Construction offers a range of services, including:\n",
      "\n",
      "1. Kitchen Remodeling: Custom kitchen remodeling services to improve layout, storage, and style.\n",
      "2. Bathroom Remodeling: Transforming bathrooms with a focus on comfort, functionality, and style.\n",
      "3. Basement Remodeling: Converting unfinished basements into comfortable, usable spaces.\n",
      "4. Room Addition: Adding space to homes, whether building out or up.\n",
      "5. General Residential Repairs: Addressing everyday issues quickly with reliable repair services.\n",
      "6. Deck Services: Custom deck design, repair, and installation for outdoor living spaces.\n",
      "7. General Residential Repairs: Fast, reliable repairs for issues like leaky faucets, cracked drywall, and more.\n",
      "\n",
      "These services are tailored to meet the specific needs of homeowners in Georgetown, DE, and nearby areas.\n"
     ]
    }
   ],
   "source": [
    "query = \"What services does Elite Construction offer?\"\n",
    "result = conversation_chain.invoke({\"question\": query})\n",
    "print(result[\"answer\"])\n"
   ]
  },
  {
   "cell_type": "code",
   "execution_count": 26,
   "id": "a22ca751-41ed-4c17-a5c0-f24c8afedb8f",
   "metadata": {},
   "outputs": [],
   "source": [
    "import gradio as gr\n"
   ]
  },
  {
   "cell_type": "code",
   "execution_count": 27,
   "id": "1ad715cd-fb95-4ebd-9f89-5b38e4490c66",
   "metadata": {},
   "outputs": [],
   "source": [
    "def chat(message, history):\n",
    "    result = conversation_chain.invoke({\"question\": message})\n",
    "    return result[\"answer\"]\n"
   ]
  },
  {
   "cell_type": "code",
   "execution_count": 28,
   "id": "b596a8ba-5e98-47f9-a440-0c961d69a79f",
   "metadata": {},
   "outputs": [
    {
     "name": "stdout",
     "output_type": "stream",
     "text": [
      "* Running on local URL:  http://127.0.0.1:7877\n",
      "* Running on public URL: https://0f781f97ec1b3a0639.gradio.live\n",
      "\n",
      "This share link expires in 1 week. For free permanent hosting and GPU upgrades, run `gradio deploy` from the terminal in the working directory to deploy to Hugging Face Spaces (https://huggingface.co/spaces)\n"
     ]
    },
    {
     "data": {
      "text/html": [
       "<div><iframe src=\"https://0f781f97ec1b3a0639.gradio.live\" width=\"100%\" height=\"500\" allow=\"autoplay; camera; microphone; clipboard-read; clipboard-write;\" frameborder=\"0\" allowfullscreen></iframe></div>"
      ],
      "text/plain": [
       "<IPython.core.display.HTML object>"
      ]
     },
     "metadata": {},
     "output_type": "display_data"
    },
    {
     "data": {
      "text/plain": []
     },
     "execution_count": 28,
     "metadata": {},
     "output_type": "execute_result"
    }
   ],
   "source": [
    "interface = gr.ChatInterface(\n",
    "    fn=chat,\n",
    "    type='messages',\n",
    "    title=\"🏠 Elite Construction Assistant\",\n",
    "    description=\"Ask anything about Elite Construction's services, contact, or company background.\",\n",
    "    theme=\"soft\"\n",
    ")\n",
    "\n",
    "interface.launch(share=True)\n"
   ]
  },
  {
   "cell_type": "code",
   "execution_count": null,
   "id": "dc12e609-2894-4584-a5af-a7d9f6a9dbfd",
   "metadata": {},
   "outputs": [],
   "source": []
  },
  {
   "cell_type": "code",
   "execution_count": null,
   "id": "213bea48-894b-4796-943c-602ea05ff105",
   "metadata": {},
   "outputs": [],
   "source": []
  },
  {
   "cell_type": "code",
   "execution_count": null,
   "id": "30b4745a-0a6c-4544-b78b-c827cfec1fb9",
   "metadata": {},
   "outputs": [],
   "source": []
  }
 ],
 "metadata": {
  "kernelspec": {
   "display_name": "Python 3 (ipykernel)",
   "language": "python",
   "name": "python3"
  },
  "language_info": {
   "codemirror_mode": {
    "name": "ipython",
    "version": 3
   },
   "file_extension": ".py",
   "mimetype": "text/x-python",
   "name": "python",
   "nbconvert_exporter": "python",
   "pygments_lexer": "ipython3",
   "version": "3.11.12"
  }
 },
 "nbformat": 4,
 "nbformat_minor": 5
}
