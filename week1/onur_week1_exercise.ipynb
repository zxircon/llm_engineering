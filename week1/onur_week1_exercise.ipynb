{
 "cells": [
  {
   "cell_type": "markdown",
   "id": "fe12c203-e6a6-452c-a655-afb8a03a4ff5",
   "metadata": {},
   "source": [
    "# End of week 1 exercise\n",
    "\n",
    "To demonstrate your familiarity with OpenAI API, and also Ollama, build a tool that takes a technical question,  \n",
    "and responds with an explanation. This is a tool that you will be able to use yourself during the course!"
   ]
  },
  {
   "cell_type": "code",
   "execution_count": 37,
   "id": "c1de84e7-d876-4b4d-8aa0-0bb1a1a838ce",
   "metadata": {},
   "outputs": [],
   "source": [
    "# imports\n",
    "import os\n",
    "import requests\n",
    "import json\n",
    "from typing import List\n",
    "from dotenv import load_dotenv\n",
    "from bs4 import BeautifulSoup\n",
    "from IPython.display import Markdown, display, update_display\n",
    "from openai import OpenAI"
   ]
  },
  {
   "cell_type": "code",
   "execution_count": 38,
   "id": "1a30f4ae-36a1-4197-bdce-179d41a1c1fb",
   "metadata": {},
   "outputs": [],
   "source": [
    "# constants\n",
    "MODEL_GPT = 'gpt-4o-mini'\n",
    "MODEL_LLAMA = 'llama3.2'\n",
    "\n",
    "# set up environment\n",
    "openai.api_key = os.getenv('OPENAI_API_KEY')\n",
    "# (Opsiyonel) Ollama client:\n",
    "# client = ollama.Client()\n"
   ]
  },
  {
   "cell_type": "code",
   "execution_count": 39,
   "id": "a888f816-05ff-40de-81aa-77850a2c22f3",
   "metadata": {},
   "outputs": [],
   "source": [
    "\n",
    "# here is the question; type over this to ask something new\n",
    "question = \"\"\"\n",
    "Please explain what this code does and why:\n",
    "yield from {book.get(\"author\") for book in books if book.get(\"author\")}\n",
    "\"\"\"\n"
   ]
  },
  {
   "cell_type": "code",
   "execution_count": 40,
   "id": "5669871c-60cc-477a-8c7f-ff81bffd212c",
   "metadata": {},
   "outputs": [],
   "source": [
    "# --- Basit GPT testi (stream=False) ---\n",
    "def ask_gpt_simple(q):\n",
    "    print(\"\\n--- GPT simple response (no stream) ---\")\n",
    "    try:\n",
    "        resp = openai.chat.completions.create(\n",
    "            model=MODEL_GPT,\n",
    "            messages=[{\"role\": \"user\", \"content\": q}],\n",
    "            stream=False\n",
    "        )\n",
    "        print(resp.choices[0].message.content)\n",
    "    except Exception as e:\n",
    "        print(\"Basit GPT test hatası:\", repr(e))\n",
    "    print(\"-\" * 50)\n"
   ]
  },
  {
   "cell_type": "code",
   "execution_count": 41,
   "id": "afc626b4-e6be-4494-a44d-196908687f0d",
   "metadata": {},
   "outputs": [],
   "source": [
    "\n",
    "# --- GPT streaming testi (düzeltildi) ---\n",
    "def ask_gpt_stream(q):\n",
    "    print(f\"\\n--- GPT ({MODEL_GPT}) streaming response ---\")\n",
    "    try:\n",
    "        stream = openai.chat.completions.create(\n",
    "            model=MODEL_GPT,\n",
    "            messages=[{\"role\": \"user\", \"content\": q}],\n",
    "            stream=True\n",
    "        )\n",
    "        for chunk in stream:\n",
    "            # .delta.content kullanıyoruz, .get yok\n",
    "            content = chunk.choices[0].delta.content\n",
    "            if content:\n",
    "                print(content, end=\"\", flush=True)\n",
    "    except Exception as e:\n",
    "        print(\"GPT çağrısında hata:\", repr(e))\n",
    "    print(\"\\n\" + \"-\" * 50)\n"
   ]
  },
  {
   "cell_type": "code",
   "execution_count": 42,
   "id": "fd35e59b-07df-4796-9620-a1736eb0973f",
   "metadata": {},
   "outputs": [
    {
     "name": "stdout",
     "output_type": "stream",
     "text": [
      "🛠️ Script başladı\n",
      "OpenAI API anahtar uzunluğu: 164\n"
     ]
    }
   ],
   "source": [
    "# --- Ollama Llama testi ---\n",
    "def ask_llama(q):\n",
    "    print(f\"\\n--- Ollama Llama ({MODEL_LLAMA}) response ---\")\n",
    "    try:\n",
    "        response = ollama.chat(\n",
    "            model=MODEL_LLAMA,\n",
    "            messages=[{\"role\": \"user\", \"content\": q}]\n",
    "        )\n",
    "        print(response)\n",
    "    except Exception as e:\n",
    "        print(\"Ollama çağrısında hata:\", repr(e))\n",
    "    print(\"-\" * 50)\n",
    "\n",
    "if __name__ == \"__main__\":\n",
    "    # Debug başlangıç çıktıları\n",
    "    print(\"🛠️ Script başladı\")\n",
    "    print(\"OpenAI API anahtar uzunluğu:\", len(openai.api_key or \"\"))\n",
    "    if not openai.api_key:\n",
    "        raise RuntimeError(\"OPENAI_API_KEY ayarlı değil!\")\n"
   ]
  },
  {
   "cell_type": "code",
   "execution_count": 44,
   "id": "cf770aaa-9c98-436a-be70-598320a9757e",
   "metadata": {},
   "outputs": [
    {
     "name": "stdout",
     "output_type": "stream",
     "text": [
      "\n",
      "--- GPT simple response (no stream) ---\n",
      "The code snippet you provided uses a Python construct called a generator with a `yield from` statement, combined with a set comprehension. Let's break it down:\n",
      "\n",
      "1. **Set Comprehension**: \n",
      "   ```python\n",
      "   {book.get(\"author\") for book in books if book.get(\"author\")}\n",
      "   ```\n",
      "   - This part of the code creates a set of authors from a collection of `books`.\n",
      "   - `books` is expected to be an iterable (like a list) containing dictionaries (each representing a book).\n",
      "   - `book.get(\"author\")` attempts to retrieve the value associated with the key `\"author\"` from each `book` dictionary.\n",
      "   - The `if book.get(\"author\")` condition ensures that only non-None (or truthy) author values are included in the set. If `book.get(\"author\")` returns `None` or an empty string (or any other value considered \"falsy\"), that author will be excluded.\n",
      "   - The resulting set contains unique authors (because sets do not allow duplicate values).\n",
      "\n",
      "2. **`yield from`**: \n",
      "   ```python\n",
      "   yield from ...\n",
      "   ```\n",
      "   - The `yield from` expression is used in a generator function to yield all values from an iterable. In this case, it is yielding each author from the set of authors created by the set comprehension.\n",
      "   - This means that when the generator is called, it will produce each unique author, one at a time, allowing for easy iteration over them.\n",
      "\n",
      "### Purpose:\n",
      "The overall purpose of this code is to create a generator that, when called, will yield each unique author from a collection of books, ignoring any entries where the author information is not available (None or missing). \n",
      "\n",
      "### Example Context:\n",
      "Suppose you have a list of book dictionaries:\n",
      "```python\n",
      "books = [\n",
      "    {\"title\": \"Book 1\", \"author\": \"Author A\"},\n",
      "    {\"title\": \"Book 2\", \"author\": \"Author B\"},\n",
      "    {\"title\": \"Book 3\", \"author\": None},\n",
      "    {\"title\": \"Book 4\", \"author\": \"Author A\"},\n",
      "]\n",
      "```\n",
      "Using the code you provided in a generator function, calling it would yield:\n",
      "- \"Author A\"\n",
      "- \"Author B\"\n",
      "\n",
      "Thus, it efficiently provides all unique authors without duplicates or missing values.\n",
      "--------------------------------------------------\n",
      "\n",
      "--- GPT (gpt-4o-mini) streaming response ---\n",
      "The provided code snippet is a Python expression that uses a combination of a generator and a set comprehension. Let's break down what it does step-by-step.\n",
      "\n",
      "### Explanation\n",
      "\n",
      "1. **Set Comprehension**:\n",
      "   - The code `{book.get(\"author\") for book in books if book.get(\"author\")}` is a set comprehension. This creates a set of unique authors from a list (or any iterable) called `books`.\n",
      "   - `book.get(\"author\")` attempts to retrieve the value associated with the key `\"author\"` from each `book` dictionary in the `books` iterable.\n",
      "   - The condition `if book.get(\"author\")` filters out any books that do not have an author (i.e., the `author` key is missing or its associated value is `None` or an empty string).\n",
      "\n",
      "2. **Yield From**:\n",
      "   - The expression `yield from` is used in a generator function to yield all values from an iterable. In this case, it's yielding all the unique author names obtained from the set comprehension.\n",
      "   - The purpose of `yield from` is to help delegate part of a generator's operations to another generator or iterable. This allows the generator to produce values from the inner iterable directly.\n",
      "\n",
      "### Purpose of the Code\n",
      "\n",
      "- The overall effect of this code is to yield a sequence of unique author names from the `books` collection, omitting any entries that do not have an author.\n",
      "- Because it's using a set comprehension, any duplicate author names will be automatically filtered out, ensuring that each author is yielded only once.\n",
      "\n",
      "### Example Use Case\n",
      "\n",
      "If you had a list of books represented as dictionaries like this:\n",
      "\n",
      "```python\n",
      "books = [\n",
      "    {\"title\": \"Book 1\", \"author\": \"Alice\"},\n",
      "    {\"title\": \"Book 2\", \"author\": \"Bob\"},\n",
      "    {\"title\": \"Book 3\", \"author\": None},  # No author\n",
      "    {\"title\": \"Book 4\", \"author\": \"Alice\"},  # Duplicate author\n",
      "    {\"title\": \"Book 5\", \"author\": \"\"}  # Empty author\n",
      "]\n",
      "```\n",
      "\n",
      "When you run the code, it will yield:\n",
      "\n",
      "- `\"Alice\"`\n",
      "- `\"Bob\"`\n",
      "\n",
      "The authors \"Alice\" and \"Bob\" are yielded once each, while entries without valid author names are omitted.\n",
      "\n",
      "### Summary\n",
      "\n",
      "This line of code efficiently processes a list of books to yield unique authors while filtering out invalid entries, thus providing a clean, iterable set of author names for further use in a program.\n",
      "--------------------------------------------------\n",
      "\n",
      "--- Ollama Llama (llama3.2) response ---\n",
      "model='llama3.2' created_at='2025-07-10T09:37:45.7460099Z' done=True done_reason='stop' total_duration=68250323700 load_duration=8935175800 prompt_eval_count=52 prompt_eval_duration=2226774100 eval_count=514 eval_duration=57066664600 message=Message(role='assistant', content='This line of code is a Python generator expression that yields the authors of books from a list of `books`. Here\\'s a breakdown:\\n\\n- `yield from`: This keyword is used to delegate to another iterable (in this case, a generator expression) and have it produce values. It allows us to simplify complex logic by yielding multiple values in one step.\\n\\n- `{book.get(\"author\") for book in books if book.get(\"author\")}`: This is a dictionary comprehension that filters out the dictionaries from `books` where `\"author\"` key doesn\\'t exist, and then yields their author value.\\n\\nHere\\'s how it works:\\n\\n1. The dictionary comprehension `{book.get(\"author\") for book in books if book.get(\"author\")}` will only include authors of books where the `\"author\"` key exists.\\n2. Since this is a generator expression (it uses `yield`), it produces an iterable containing these author values, one at a time.\\n3. When we combine this with `yield from`, we\\'re essentially saying: \"Yield all the author values from the above iterable.\"\\n\\nSo overall, this line of code yields authors of books where the `\"author\"` key exists in each book dictionary.\\n\\nIt\\'s equivalent to:\\n\\n```python\\ndef get_authors(books):\\n    for book in books:\\n        if \"author\" in book:\\n            yield book[\"author\"]\\n```\\n\\nHowever, the original code is more concise and expressive. \\n\\nHere\\'s an example of how you might use this function:\\n\\n```python\\nimport random\\n\\n# Define some books with authors\\nbooks = [\\n    {\"title\": \"Book 1\", \"author\": \"Author A\"},\\n    {\"title\": \"Book 2\", \"author\": \"Author B\"},\\n    {\"title\": \"Book 3\"}\\n]\\n\\n# Filter out books without an author and yield their authors\\nfor book in books:\\n    if \"author\" in book:\\n        print(book[\"author\"])\\n\\n```\\n\\nHowever, the original line of code can also be used as part of a larger function to filter out certain items from a list.\\n\\n```python\\ndef get_authors(books):\\n    for book in books:\\n        if \"author\" in book:\\n            yield book[\"author\"]\\n\\n# Example usage:\\n\\nbooks = [\\n    {\"title\": \"Book 1\", \"author\": \"Author A\"},\\n    {\"title\": \"Book 2\", \"author\": \"Author B\"},\\n    {\"title\": \"Book 3\"}\\n]\\n\\nfor author in get_authors(books):\\n    print(author)\\n```', images=None, tool_calls=None)\n",
      "--------------------------------------------------\n"
     ]
    }
   ],
   "source": [
    "    # 1) Stream kapalı basit GPT testi\n",
    "    ask_gpt_simple(question)\n",
    "    # 2) Stream açık GPT testi\n",
    "    ask_gpt_stream(question)\n",
    "    # 3) Ollama testi\n",
    "    ask_llama(question)\n"
   ]
  }
 ],
 "metadata": {
  "kernelspec": {
   "display_name": "Python 3 (ipykernel)",
   "language": "python",
   "name": "python3"
  },
  "language_info": {
   "codemirror_mode": {
    "name": "ipython",
    "version": 3
   },
   "file_extension": ".py",
   "mimetype": "text/x-python",
   "name": "python",
   "nbconvert_exporter": "python",
   "pygments_lexer": "ipython3",
   "version": "3.11.12"
  }
 },
 "nbformat": 4,
 "nbformat_minor": 5
}
